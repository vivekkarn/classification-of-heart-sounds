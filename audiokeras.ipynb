{
 "cells": [
  {
   "cell_type": "code",
   "execution_count": 1,
   "metadata": {},
   "outputs": [
    {
     "name": "stdout",
     "output_type": "stream",
     "text": [
      "Populating the interactive namespace from numpy and matplotlib\n"
     ]
    },
    {
     "data": {
      "text/plain": [
       "<Figure size 864x288 with 0 Axes>"
      ]
     },
     "execution_count": 1,
     "metadata": {},
     "output_type": "execute_result"
    },
    {
     "data": {
      "text/plain": [
       "<Figure size 864x288 with 0 Axes>"
      ]
     },
     "metadata": {},
     "output_type": "display_data"
    }
   ],
   "source": [
    "% pylab inline\n",
    "import os\n",
    "import pandas as pd\n",
    "import librosa\n",
    "import librosa.display as display\n",
    "import glob \n",
    "\n",
    "plt.figure(figsize=(12, 4))"
   ]
  },
  {
   "cell_type": "code",
   "execution_count": 2,
   "metadata": {},
   "outputs": [
    {
     "data": {
      "text/plain": [
       "<matplotlib.collections.PolyCollection at 0x228120540f0>"
      ]
     },
     "execution_count": 2,
     "metadata": {},
     "output_type": "execute_result"
    },
    {
     "data": {
      "image/png": "[encoded data removed]",
      "text/plain": [
       "<Figure size 432x288 with 1 Axes>"
      ]
     },
     "metadata": {},
     "output_type": "display_data"
    }
   ],
   "source": [
    "data, sampling_rate = librosa.load('normal/normal__109_1305653646620_C.wav')\n",
    "display.waveplot(data, sr=sampling_rate)"
   ]
  },
  {
   "cell_type": "code",
   "execution_count": 50,
   "metadata": {},
   "outputs": [],
   "source": [
    "def extract_data(folder):\n",
    "    # function to load files and extract features\n",
    "    file_names = glob.glob(os.path.join(folder, '*.wav'))\n",
    "    data = []\n",
    "    for file_name in file_names:\n",
    "        try:\n",
    "            # here kaiser_fast is a technique used for faster extraction\n",
    "            X, sample_rate = librosa.load(file_name, res_type='kaiser_fast') \n",
    "            # we extract mfcc feature from data\n",
    "            mfccs = np.mean(librosa.feature.mfcc(y=X, sr=sample_rate, n_mfcc=40).T,axis=0) \n",
    "        except Exception as e:\n",
    "            print(\"Error encountered while parsing file: \", file)\n",
    "        \n",
    "        feature = np.array(mfccs).reshape([-1,1])\n",
    "        data.append(feature)\n",
    "    return data"
   ]
  },
  {
   "cell_type": "code",
   "execution_count": 51,
   "metadata": {},
   "outputs": [],
   "source": [
    "normal_onehot = 1\n",
    "murmur_onehot = 0\n",
    "\n",
    "normal_sounds = extract_data(\"normal\")\n",
    "normal_labels = [normal_onehot for items in normal_sounds]\n",
    "murmur_sounds = extract_data(\"murmur\")\n",
    "x_test = extract_data(\"test\")\n",
    "murmur_labels = [murmur_onehot for items in murmur_sounds]\n",
    "x_train = np.concatenate((normal_sounds, murmur_sounds))\n",
    "y_train = np.concatenate((normal_labels, murmur_labels))"
   ]
  },
  {
   "cell_type": "code",
   "execution_count": 52,
   "metadata": {},
   "outputs": [
    {
     "data": {
      "text/plain": [
       "(40, 1)"
      ]
     },
     "execution_count": 52,
     "metadata": {},
     "output_type": "execute_result"
    }
   ],
   "source": [
    "x_train[5].shape"
   ]
  },
  {
   "cell_type": "code",
   "execution_count": 56,
   "metadata": {},
   "outputs": [
    {
     "name": "stdout",
     "output_type": "stream",
     "text": [
      "Build LSTM RNN model ...\n"
     ]
    }
   ],
   "source": [
    "import numpy as np\n",
    "from keras.models import Sequential\n",
    "from keras.layers import Dense, Dropout, Activation, Flatten, LSTM\n",
    "from keras.layers import Convolution2D, MaxPooling2D\n",
    "from keras.optimizers import Adam\n",
    "from keras.utils import np_utils\n",
    "from sklearn import metrics \n",
    "\n",
    "print('Build LSTM RNN model ...')\n",
    "model = Sequential()\n",
    "model.add(LSTM(units=64, dropout=0.05, recurrent_dropout=0.35, return_sequences=True,input_shape = (40,1)))\n",
    "model.add(LSTM(units=32, dropout=0.05, recurrent_dropout=0.35, return_sequences=False))\n",
    "model.add(Dense(1, activation='sigmoid'))\n",
    "\n",
    "model.compile(loss='binary_crossentropy', optimizer='adam', metrics=['accuracy'])"
   ]
  },
  {
   "cell_type": "code",
   "execution_count": 57,
   "metadata": {},
   "outputs": [
    {
     "name": "stdout",
     "output_type": "stream",
     "text": [
      "Epoch 1/100\n",
      "266/266 [==============================] - 5s 19ms/step - loss: 0.6492 - acc: 0.6692\n",
      "Epoch 2/100\n",
      "266/266 [==============================] - 1s 3ms/step - loss: 0.5373 - acc: 0.7707\n",
      "Epoch 3/100\n",
      "266/266 [==============================] - 1s 3ms/step - loss: 0.5294 - acc: 0.7707\n",
      "Epoch 4/100\n",
      "266/266 [==============================] - 1s 3ms/step - loss: 0.4965 - acc: 0.7782\n",
      "Epoch 5/100\n",
      "266/266 [==============================] - 1s 3ms/step - loss: 0.5068 - acc: 0.7782A: 0s - loss: 0.5074 - acc: 0.777\n",
      "Epoch 6/100\n",
      "266/266 [==============================] - 1s 3ms/step - loss: 0.5005 - acc: 0.7857\n",
      "Epoch 7/100\n",
      "266/266 [==============================] - 1s 3ms/step - loss: 0.5071 - acc: 0.7932\n",
      "Epoch 8/100\n",
      "266/266 [==============================] - 1s 3ms/step - loss: 0.5068 - acc: 0.7744\n",
      "Epoch 9/100\n",
      "266/266 [==============================] - 1s 3ms/step - loss: 0.5001 - acc: 0.7820\n",
      "Epoch 10/100\n",
      "266/266 [==============================] - 1s 3ms/step - loss: 0.5085 - acc: 0.7932\n",
      "Epoch 11/100\n",
      "266/266 [==============================] - 1s 3ms/step - loss: 0.5015 - acc: 0.8008\n",
      "Epoch 12/100\n",
      "266/266 [==============================] - 1s 3ms/step - loss: 0.4969 - acc: 0.7895\n",
      "Epoch 13/100\n",
      "266/266 [==============================] - 1s 3ms/step - loss: 0.4989 - acc: 0.7970\n",
      "Epoch 14/100\n",
      "266/266 [==============================] - 1s 3ms/step - loss: 0.5035 - acc: 0.7895\n",
      "Epoch 15/100\n",
      "266/266 [==============================] - 1s 3ms/step - loss: 0.4875 - acc: 0.8008\n",
      "Epoch 16/100\n",
      "266/266 [==============================] - 1s 3ms/step - loss: 0.4867 - acc: 0.7970\n",
      "Epoch 17/100\n",
      "266/266 [==============================] - 1s 3ms/step - loss: 0.5011 - acc: 0.7782\n",
      "Epoch 18/100\n",
      "266/266 [==============================] - 1s 3ms/step - loss: 0.4993 - acc: 0.7857\n",
      "Epoch 19/100\n",
      "266/266 [==============================] - 1s 3ms/step - loss: 0.4865 - acc: 0.8008\n",
      "Epoch 20/100\n",
      "266/266 [==============================] - 1s 3ms/step - loss: 0.5123 - acc: 0.7782\n",
      "Epoch 21/100\n",
      "266/266 [==============================] - 1s 3ms/step - loss: 0.4970 - acc: 0.8008\n",
      "Epoch 22/100\n",
      "266/266 [==============================] - 1s 3ms/step - loss: 0.4869 - acc: 0.8008\n",
      "Epoch 23/100\n",
      "266/266 [==============================] - 1s 3ms/step - loss: 0.4913 - acc: 0.7970\n",
      "Epoch 24/100\n",
      "266/266 [==============================] - 1s 3ms/step - loss: 0.4882 - acc: 0.7932\n",
      "Epoch 25/100\n",
      "266/266 [==============================] - 1s 3ms/step - loss: 0.4865 - acc: 0.8008\n",
      "Epoch 26/100\n",
      "266/266 [==============================] - 1s 3ms/step - loss: 0.4852 - acc: 0.7932\n",
      "Epoch 27/100\n",
      "266/266 [==============================] - 1s 3ms/step - loss: 0.4879 - acc: 0.7970\n",
      "Epoch 28/100\n",
      "266/266 [==============================] - 1s 3ms/step - loss: 0.4780 - acc: 0.7932\n",
      "Epoch 29/100\n",
      "266/266 [==============================] - 1s 3ms/step - loss: 0.4825 - acc: 0.8008\n",
      "Epoch 30/100\n",
      "266/266 [==============================] - 1s 3ms/step - loss: 0.4781 - acc: 0.8083\n",
      "Epoch 31/100\n",
      "266/266 [==============================] - 1s 3ms/step - loss: 0.4723 - acc: 0.8008\n",
      "Epoch 32/100\n",
      "266/266 [==============================] - 1s 3ms/step - loss: 0.4757 - acc: 0.8158\n",
      "Epoch 33/100\n",
      "266/266 [==============================] - 1s 3ms/step - loss: 0.4818 - acc: 0.7932\n",
      "Epoch 34/100\n",
      "266/266 [==============================] - 1s 3ms/step - loss: 0.4743 - acc: 0.7932\n",
      "Epoch 35/100\n",
      "266/266 [==============================] - 1s 3ms/step - loss: 0.4827 - acc: 0.8045\n",
      "Epoch 36/100\n",
      "266/266 [==============================] - 1s 3ms/step - loss: 0.4784 - acc: 0.8158\n",
      "Epoch 37/100\n",
      "266/266 [==============================] - 1s 3ms/step - loss: 0.4760 - acc: 0.8008\n",
      "Epoch 38/100\n",
      "266/266 [==============================] - 1s 3ms/step - loss: 0.4802 - acc: 0.7857\n",
      "Epoch 39/100\n",
      "266/266 [==============================] - 1s 3ms/step - loss: 0.4652 - acc: 0.8120\n",
      "Epoch 40/100\n",
      "266/266 [==============================] - 1s 3ms/step - loss: 0.4708 - acc: 0.8008\n",
      "Epoch 41/100\n",
      "266/266 [==============================] - 1s 3ms/step - loss: 0.4640 - acc: 0.8120\n",
      "Epoch 42/100\n",
      "266/266 [==============================] - 1s 3ms/step - loss: 0.4711 - acc: 0.8195\n",
      "Epoch 43/100\n",
      "266/266 [==============================] - 1s 3ms/step - loss: 0.4794 - acc: 0.7932\n",
      "Epoch 44/100\n",
      "266/266 [==============================] - 1s 3ms/step - loss: 0.4690 - acc: 0.8045\n",
      "Epoch 45/100\n",
      "266/266 [==============================] - 1s 3ms/step - loss: 0.4693 - acc: 0.8120\n",
      "Epoch 46/100\n",
      "266/266 [==============================] - 1s 3ms/step - loss: 0.4603 - acc: 0.8083\n",
      "Epoch 47/100\n",
      "266/266 [==============================] - 1s 3ms/step - loss: 0.4522 - acc: 0.8158\n",
      "Epoch 48/100\n",
      "266/266 [==============================] - 1s 3ms/step - loss: 0.4536 - acc: 0.8083\n",
      "Epoch 49/100\n",
      "266/266 [==============================] - 1s 3ms/step - loss: 0.4677 - acc: 0.8120\n",
      "Epoch 50/100\n",
      "266/266 [==============================] - 1s 3ms/step - loss: 0.4487 - acc: 0.8158\n",
      "Epoch 51/100\n",
      "266/266 [==============================] - 1s 3ms/step - loss: 0.4554 - acc: 0.8233\n",
      "Epoch 52/100\n",
      "266/266 [==============================] - 1s 3ms/step - loss: 0.4431 - acc: 0.8233\n",
      "Epoch 53/100\n",
      "266/266 [==============================] - 1s 3ms/step - loss: 0.4804 - acc: 0.7895\n",
      "Epoch 54/100\n",
      "266/266 [==============================] - 1s 3ms/step - loss: 0.4574 - acc: 0.8083\n",
      "Epoch 55/100\n",
      "266/266 [==============================] - 1s 3ms/step - loss: 0.4409 - acc: 0.8308\n",
      "Epoch 56/100\n",
      "266/266 [==============================] - 1s 3ms/step - loss: 0.4644 - acc: 0.8120\n",
      "Epoch 57/100\n",
      "266/266 [==============================] - 1s 3ms/step - loss: 0.4521 - acc: 0.8233\n",
      "Epoch 58/100\n",
      "266/266 [==============================] - 1s 2ms/step - loss: 0.4568 - acc: 0.8120\n",
      "Epoch 59/100\n",
      "266/266 [==============================] - 1s 3ms/step - loss: 0.4410 - acc: 0.8233\n",
      "Epoch 60/100\n",
      "266/266 [==============================] - 1s 3ms/step - loss: 0.4570 - acc: 0.8120\n",
      "Epoch 61/100\n",
      "266/266 [==============================] - 1s 3ms/step - loss: 0.4531 - acc: 0.8158\n",
      "Epoch 62/100\n",
      "266/266 [==============================] - 1s 3ms/step - loss: 0.4532 - acc: 0.8158\n",
      "Epoch 63/100\n",
      "266/266 [==============================] - 1s 3ms/step - loss: 0.4648 - acc: 0.8195\n",
      "Epoch 64/100\n",
      "266/266 [==============================] - 1s 3ms/step - loss: 0.4456 - acc: 0.8233\n",
      "Epoch 65/100\n",
      "266/266 [==============================] - 1s 3ms/step - loss: 0.4388 - acc: 0.8271\n",
      "Epoch 66/100\n",
      "266/266 [==============================] - 1s 3ms/step - loss: 0.4415 - acc: 0.8120\n",
      "Epoch 67/100\n",
      "266/266 [==============================] - 1s 3ms/step - loss: 0.4286 - acc: 0.8346\n",
      "Epoch 68/100\n",
      "266/266 [==============================] - 1s 3ms/step - loss: 0.4378 - acc: 0.8271\n",
      "Epoch 69/100\n",
      "266/266 [==============================] - 1s 3ms/step - loss: 0.4401 - acc: 0.8271\n",
      "Epoch 70/100\n",
      "266/266 [==============================] - 1s 3ms/step - loss: 0.4710 - acc: 0.7970\n",
      "Epoch 71/100\n",
      "266/266 [==============================] - 1s 3ms/step - loss: 0.4549 - acc: 0.8158\n",
      "Epoch 72/100\n",
      "266/266 [==============================] - 1s 3ms/step - loss: 0.4410 - acc: 0.8233\n",
      "Epoch 73/100\n",
      "266/266 [==============================] - 1s 3ms/step - loss: 0.4390 - acc: 0.8346\n",
      "Epoch 74/100\n",
      "266/266 [==============================] - 1s 3ms/step - loss: 0.4281 - acc: 0.8233\n",
      "Epoch 75/100\n",
      "266/266 [==============================] - 1s 4ms/step - loss: 0.4312 - acc: 0.8346\n",
      "Epoch 76/100\n",
      "266/266 [==============================] - 1s 3ms/step - loss: 0.4394 - acc: 0.8233\n",
      "Epoch 77/100\n",
      "266/266 [==============================] - 1s 3ms/step - loss: 0.4264 - acc: 0.8346\n",
      "Epoch 78/100\n",
      "266/266 [==============================] - 1s 3ms/step - loss: 0.4448 - acc: 0.8233\n",
      "Epoch 79/100\n",
      "266/266 [==============================] - 1s 3ms/step - loss: 0.4261 - acc: 0.8271\n",
      "Epoch 80/100\n",
      "266/266 [==============================] - 1s 3ms/step - loss: 0.4065 - acc: 0.8346\n",
      "Epoch 81/100\n",
      "266/266 [==============================] - 1s 3ms/step - loss: 0.4396 - acc: 0.8158\n",
      "Epoch 82/100\n",
      "266/266 [==============================] - 1s 3ms/step - loss: 0.4430 - acc: 0.8158\n",
      "Epoch 83/100\n",
      "266/266 [==============================] - 1s 3ms/step - loss: 0.4000 - acc: 0.8421\n",
      "Epoch 84/100\n",
      "266/266 [==============================] - 1s 3ms/step - loss: 0.4325 - acc: 0.8308\n",
      "Epoch 85/100\n"
     ]
    },
    {
     "name": "stdout",
     "output_type": "stream",
     "text": [
      "266/266 [==============================] - 1s 3ms/step - loss: 0.4250 - acc: 0.8271\n",
      "Epoch 86/100\n",
      "266/266 [==============================] - 1s 3ms/step - loss: 0.4243 - acc: 0.8383\n",
      "Epoch 87/100\n",
      "266/266 [==============================] - 1s 3ms/step - loss: 0.4047 - acc: 0.8271\n",
      "Epoch 88/100\n",
      "266/266 [==============================] - 1s 3ms/step - loss: 0.4400 - acc: 0.8271\n",
      "Epoch 89/100\n",
      "266/266 [==============================] - 1s 3ms/step - loss: 0.4189 - acc: 0.8346\n",
      "Epoch 90/100\n",
      "266/266 [==============================] - 1s 3ms/step - loss: 0.4196 - acc: 0.8271\n",
      "Epoch 91/100\n",
      "266/266 [==============================] - 1s 3ms/step - loss: 0.4219 - acc: 0.8158A: 0s - loss: 0.4373 - acc: 0.80\n",
      "Epoch 92/100\n",
      "266/266 [==============================] - 1s 3ms/step - loss: 0.4158 - acc: 0.8308A: 0s - loss: 0.4095 - acc: 0.835\n",
      "Epoch 93/100\n",
      "266/266 [==============================] - 1s 3ms/step - loss: 0.4066 - acc: 0.8271A: 0s - loss: 0.3640 - acc:\n",
      "Epoch 94/100\n",
      "266/266 [==============================] - 1s 3ms/step - loss: 0.3989 - acc: 0.8308\n",
      "Epoch 95/100\n",
      "266/266 [==============================] - 1s 3ms/step - loss: 0.4125 - acc: 0.8271\n",
      "Epoch 96/100\n",
      "266/266 [==============================] - 1s 3ms/step - loss: 0.4064 - acc: 0.8308\n",
      "Epoch 97/100\n",
      "266/266 [==============================] - 1s 3ms/step - loss: 0.4167 - acc: 0.8233\n",
      "Epoch 98/100\n",
      "266/266 [==============================] - 1s 3ms/step - loss: 0.4318 - acc: 0.8045\n",
      "Epoch 99/100\n",
      "266/266 [==============================] - 1s 3ms/step - loss: 0.4018 - acc: 0.8308\n",
      "Epoch 100/100\n",
      "266/266 [==============================] - 1s 4ms/step - loss: 0.4073 - acc: 0.8383\n"
     ]
    },
    {
     "data": {
      "text/plain": [
       "<keras.callbacks.History at 0x22821c9a668>"
      ]
     },
     "execution_count": 57,
     "metadata": {},
     "output_type": "execute_result"
    }
   ],
   "source": [
    "model.fit(x_train, y_train, batch_size=32, epochs=100)"
   ]
  },
  {
   "cell_type": "code",
   "execution_count": 58,
   "metadata": {},
   "outputs": [
    {
     "name": "stdout",
     "output_type": "stream",
     "text": [
      "_________________________________________________________________\n",
      "Layer (type)                 Output Shape              Param #   \n",
      "=================================================================\n",
      "lstm_20 (LSTM)               (None, 40, 64)            16896     \n",
      "_________________________________________________________________\n",
      "lstm_21 (LSTM)               (None, 32)                12416     \n",
      "_________________________________________________________________\n",
      "dense_8 (Dense)              (None, 1)                 33        \n",
      "=================================================================\n",
      "Total params: 29,345\n",
      "Trainable params: 29,345\n",
      "Non-trainable params: 0\n",
      "_________________________________________________________________\n"
     ]
    }
   ],
   "source": [
    "model.summary()"
   ]
  },
  {
   "cell_type": "code",
   "execution_count": 59,
   "metadata": {},
   "outputs": [
    {
     "ename": "ValueError",
     "evalue": "Error when checking model input: the list of Numpy arrays that you are passing to your model is not the size the model expected. Expected to see 1 array(s), but instead got the following list of 11 arrays: [array([[-4.67653275e+02],\n       [ 1.89769461e+02],\n       [ 5.29820442e+01],\n       [-2.04252808e+01],\n       [ 1.02796503e+00],\n       [ 3.92504167e+01],\n       [ 2.96702975e+01],\n       [-4.416238...",
     "output_type": "error",
     "traceback": [
      "\u001b[1;31m---------------------------------------------------------------------------\u001b[0m",
      "\u001b[1;31mValueError\u001b[0m                                Traceback (most recent call last)",
      "\u001b[1;32m<ipython-input-59-a556f0421074>\u001b[0m in \u001b[0;36m<module>\u001b[1;34m()\u001b[0m\n\u001b[1;32m----> 1\u001b[1;33m \u001b[0mmodel\u001b[0m\u001b[1;33m.\u001b[0m\u001b[0mpredict\u001b[0m\u001b[1;33m(\u001b[0m\u001b[0mx_test\u001b[0m\u001b[1;33m)\u001b[0m\u001b[1;33m\u001b[0m\u001b[0m\n\u001b[0m",
      "\u001b[1;32mF:\\Anaconda\\lib\\site-packages\\keras\\engine\\training.py\u001b[0m in \u001b[0;36mpredict\u001b[1;34m(self, x, batch_size, verbose, steps)\u001b[0m\n\u001b[0;32m   1150\u001b[0m                              'argument.')\n\u001b[0;32m   1151\u001b[0m         \u001b[1;31m# Validate user data.\u001b[0m\u001b[1;33m\u001b[0m\u001b[1;33m\u001b[0m\u001b[0m\n\u001b[1;32m-> 1152\u001b[1;33m         \u001b[0mx\u001b[0m\u001b[1;33m,\u001b[0m \u001b[0m_\u001b[0m\u001b[1;33m,\u001b[0m \u001b[0m_\u001b[0m \u001b[1;33m=\u001b[0m \u001b[0mself\u001b[0m\u001b[1;33m.\u001b[0m\u001b[0m_standardize_user_data\u001b[0m\u001b[1;33m(\u001b[0m\u001b[0mx\u001b[0m\u001b[1;33m)\u001b[0m\u001b[1;33m\u001b[0m\u001b[0m\n\u001b[0m\u001b[0;32m   1153\u001b[0m         \u001b[1;32mif\u001b[0m \u001b[0mself\u001b[0m\u001b[1;33m.\u001b[0m\u001b[0mstateful\u001b[0m\u001b[1;33m:\u001b[0m\u001b[1;33m\u001b[0m\u001b[0m\n\u001b[0;32m   1154\u001b[0m             \u001b[1;32mif\u001b[0m \u001b[0mx\u001b[0m\u001b[1;33m[\u001b[0m\u001b[1;36m0\u001b[0m\u001b[1;33m]\u001b[0m\u001b[1;33m.\u001b[0m\u001b[0mshape\u001b[0m\u001b[1;33m[\u001b[0m\u001b[1;36m0\u001b[0m\u001b[1;33m]\u001b[0m \u001b[1;33m>\u001b[0m \u001b[0mbatch_size\u001b[0m \u001b[1;32mand\u001b[0m \u001b[0mx\u001b[0m\u001b[1;33m[\u001b[0m\u001b[1;36m0\u001b[0m\u001b[1;33m]\u001b[0m\u001b[1;33m.\u001b[0m\u001b[0mshape\u001b[0m\u001b[1;33m[\u001b[0m\u001b[1;36m0\u001b[0m\u001b[1;33m]\u001b[0m \u001b[1;33m%\u001b[0m \u001b[0mbatch_size\u001b[0m \u001b[1;33m!=\u001b[0m \u001b[1;36m0\u001b[0m\u001b[1;33m:\u001b[0m\u001b[1;33m\u001b[0m\u001b[0m\n",
      "\u001b[1;32mF:\\Anaconda\\lib\\site-packages\\keras\\engine\\training.py\u001b[0m in \u001b[0;36m_standardize_user_data\u001b[1;34m(self, x, y, sample_weight, class_weight, check_array_lengths, batch_size)\u001b[0m\n\u001b[0;32m    752\u001b[0m             \u001b[0mfeed_input_shapes\u001b[0m\u001b[1;33m,\u001b[0m\u001b[1;33m\u001b[0m\u001b[0m\n\u001b[0;32m    753\u001b[0m             \u001b[0mcheck_batch_axis\u001b[0m\u001b[1;33m=\u001b[0m\u001b[1;32mFalse\u001b[0m\u001b[1;33m,\u001b[0m  \u001b[1;31m# Don't enforce the batch size.\u001b[0m\u001b[1;33m\u001b[0m\u001b[0m\n\u001b[1;32m--> 754\u001b[1;33m             exception_prefix='input')\n\u001b[0m\u001b[0;32m    755\u001b[0m \u001b[1;33m\u001b[0m\u001b[0m\n\u001b[0;32m    756\u001b[0m         \u001b[1;32mif\u001b[0m \u001b[0my\u001b[0m \u001b[1;32mis\u001b[0m \u001b[1;32mnot\u001b[0m \u001b[1;32mNone\u001b[0m\u001b[1;33m:\u001b[0m\u001b[1;33m\u001b[0m\u001b[0m\n",
      "\u001b[1;32mF:\\Anaconda\\lib\\site-packages\\keras\\engine\\training_utils.py\u001b[0m in \u001b[0;36mstandardize_input_data\u001b[1;34m(data, names, shapes, check_batch_axis, exception_prefix)\u001b[0m\n\u001b[0;32m     98\u001b[0m                 \u001b[1;34m'Expected to see '\u001b[0m \u001b[1;33m+\u001b[0m \u001b[0mstr\u001b[0m\u001b[1;33m(\u001b[0m\u001b[0mlen\u001b[0m\u001b[1;33m(\u001b[0m\u001b[0mnames\u001b[0m\u001b[1;33m)\u001b[0m\u001b[1;33m)\u001b[0m \u001b[1;33m+\u001b[0m \u001b[1;34m' array(s), '\u001b[0m\u001b[1;33m\u001b[0m\u001b[0m\n\u001b[0;32m     99\u001b[0m                 \u001b[1;34m'but instead got the following list of '\u001b[0m \u001b[1;33m+\u001b[0m\u001b[1;33m\u001b[0m\u001b[0m\n\u001b[1;32m--> 100\u001b[1;33m                 str(len(data)) + ' arrays: ' + str(data)[:200] + '...')\n\u001b[0m\u001b[0;32m    101\u001b[0m         \u001b[1;32melif\u001b[0m \u001b[0mlen\u001b[0m\u001b[1;33m(\u001b[0m\u001b[0mnames\u001b[0m\u001b[1;33m)\u001b[0m \u001b[1;33m>\u001b[0m \u001b[1;36m1\u001b[0m\u001b[1;33m:\u001b[0m\u001b[1;33m\u001b[0m\u001b[0m\n\u001b[0;32m    102\u001b[0m             raise ValueError(\n",
      "\u001b[1;31mValueError\u001b[0m: Error when checking model input: the list of Numpy arrays that you are passing to your model is not the size the model expected. Expected to see 1 array(s), but instead got the following list of 11 arrays: [array([[-4.67653275e+02],\n       [ 1.89769461e+02],\n       [ 5.29820442e+01],\n       [-2.04252808e+01],\n       [ 1.02796503e+00],\n       [ 3.92504167e+01],\n       [ 2.96702975e+01],\n       [-4.416238..."
     ]
    }
   ],
   "source": [
    "model.predict(np.arrary(x_test)"
   ]
  },
  {
   "cell_type": "code",
   "execution_count": null,
   "metadata": {},
   "outputs": [],
   "source": []
  }
 ],
 "metadata": {
  "kernelspec": {
   "display_name": "Python 3",
   "language": "python",
   "name": "python3"
  },
  "language_info": {
   "codemirror_mode": {
    "name": "ipython",
    "version": 3
   },
   "file_extension": ".py",
   "mimetype": "text/x-python",
   "name": "python",
   "nbconvert_exporter": "python",
   "pygments_lexer": "ipython3",
   "version": "3.6.5"
  }
 },
 "nbformat": 4,
 "nbformat_minor": 2
}
